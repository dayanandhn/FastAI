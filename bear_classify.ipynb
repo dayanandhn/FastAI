{
  "nbformat": 4,
  "nbformat_minor": 0,
  "metadata": {
    "colab": {
      "name": "bear_classify.ipynb",
      "provenance": []
    },
    "kernelspec": {
      "name": "python3",
      "display_name": "Python 3"
    },
    "widgets": {
      "application/vnd.jupyter.widget-state+json": {
        "b7b90053fcc643199b91e2a64388e222": {
          "model_module": "@jupyter-widgets/controls",
          "model_name": "VBoxModel",
          "state": {
            "_view_name": "VBoxView",
            "_dom_classes": [],
            "_model_name": "VBoxModel",
            "_view_module": "@jupyter-widgets/controls",
            "_model_module_version": "1.5.0",
            "_view_count": null,
            "_view_module_version": "1.5.0",
            "box_style": "",
            "layout": "IPY_MODEL_e5664e6896534d4fa2ec8914e8ccaf05",
            "_model_module": "@jupyter-widgets/controls",
            "children": [
              "IPY_MODEL_a52611ffae464a48ba026a7cd3275d4d",
              "IPY_MODEL_c7258b2256834ba6953d7c95b66788f5",
              "IPY_MODEL_82cb13eb0c2849448f312c43134db7d4",
              "IPY_MODEL_2fcaef5e7caa415b8f3163ce06bbe6f4"
            ]
          }
        },
        "e5664e6896534d4fa2ec8914e8ccaf05": {
          "model_module": "@jupyter-widgets/base",
          "model_name": "LayoutModel",
          "state": {
            "_view_name": "LayoutView",
            "grid_template_rows": null,
            "right": null,
            "justify_content": null,
            "_view_module": "@jupyter-widgets/base",
            "overflow": null,
            "_model_module_version": "1.2.0",
            "_view_count": null,
            "flex_flow": null,
            "width": null,
            "min_width": null,
            "border": null,
            "align_items": null,
            "bottom": null,
            "_model_module": "@jupyter-widgets/base",
            "top": null,
            "grid_column": null,
            "overflow_y": null,
            "overflow_x": null,
            "grid_auto_flow": null,
            "grid_area": null,
            "grid_template_columns": null,
            "flex": null,
            "_model_name": "LayoutModel",
            "justify_items": null,
            "grid_row": null,
            "max_height": null,
            "align_content": null,
            "visibility": null,
            "align_self": null,
            "height": null,
            "min_height": null,
            "padding": null,
            "grid_auto_rows": null,
            "grid_gap": null,
            "max_width": null,
            "order": null,
            "_view_module_version": "1.2.0",
            "grid_template_areas": null,
            "object_position": null,
            "object_fit": null,
            "grid_auto_columns": null,
            "margin": null,
            "display": null,
            "left": null
          }
        },
        "a52611ffae464a48ba026a7cd3275d4d": {
          "model_module": "@jupyter-widgets/controls",
          "model_name": "LabelModel",
          "state": {
            "_view_name": "LabelView",
            "style": "IPY_MODEL_ff11cfb8582446e9815f1c47225415c9",
            "_dom_classes": [],
            "description": "",
            "_model_name": "LabelModel",
            "placeholder": "​",
            "_view_module": "@jupyter-widgets/controls",
            "_model_module_version": "1.5.0",
            "value": "Select your bear!",
            "_view_count": null,
            "_view_module_version": "1.5.0",
            "description_tooltip": null,
            "_model_module": "@jupyter-widgets/controls",
            "layout": "IPY_MODEL_3448561a54b64c54993ebfc0a45e4a1c"
          }
        },
        "c7258b2256834ba6953d7c95b66788f5": {
          "model_module": "@jupyter-widgets/controls",
          "model_name": "FileUploadModel",
          "state": {
            "_view_name": "FileUploadView",
            "_counter": 3,
            "style": "IPY_MODEL_ec17a04176f44b0dabd210c70b502043",
            "_dom_classes": [],
            "description": "Upload",
            "multiple": false,
            "_model_name": "FileUploadModel",
            "data": [
              null
            ],
            "button_style": "",
            "_view_module": "@jupyter-widgets/controls",
            "_model_module_version": "1.5.0",
            "accept": "",
            "_view_count": null,
            "disabled": false,
            "_view_module_version": "1.5.0",
            "error": "",
            "description_tooltip": null,
            "metadata": [
              {
                "name": "teddy.jfif",
                "type": "image/jpeg",
                "size": 7440,
                "lastModified": 1610182809797
              }
            ],
            "_model_module": "@jupyter-widgets/controls",
            "layout": "IPY_MODEL_21a51e42641e43b8954aa495644ac2d9",
            "icon": "upload"
          }
        },
        "82cb13eb0c2849448f312c43134db7d4": {
          "model_module": "@jupyter-widgets/output",
          "model_name": "OutputModel",
          "state": {
            "_view_name": "OutputView",
            "msg_id": "",
            "_dom_classes": [],
            "_model_name": "OutputModel",
            "outputs": [
              {
                "output_type": "display_data",
                "metadata": {
                  "tags": []
                },
                "image/png": "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\n",
                "text/plain": "<PIL.Image.Image image mode=RGB size=96x128 at 0x7F56F05A4C50>"
              }
            ],
            "_view_module": "@jupyter-widgets/output",
            "_model_module_version": "1.0.0",
            "_view_count": null,
            "_view_module_version": "1.0.0",
            "layout": "IPY_MODEL_5dfb60ad2b0f458a9ad5b9d4465cfff3",
            "_model_module": "@jupyter-widgets/output"
          }
        },
        "2fcaef5e7caa415b8f3163ce06bbe6f4": {
          "model_module": "@jupyter-widgets/controls",
          "model_name": "LabelModel",
          "state": {
            "_view_name": "LabelView",
            "style": "IPY_MODEL_eb800d8235f44a8ba99ca9dca1959a9f",
            "_dom_classes": [],
            "description": "",
            "_model_name": "LabelModel",
            "placeholder": "​",
            "_view_module": "@jupyter-widgets/controls",
            "_model_module_version": "1.5.0",
            "value": "Prediction: teddy; Probability: 1.0000",
            "_view_count": null,
            "_view_module_version": "1.5.0",
            "description_tooltip": null,
            "_model_module": "@jupyter-widgets/controls",
            "layout": "IPY_MODEL_63c00c054f5346acafe79b9f1a144470"
          }
        },
        "ff11cfb8582446e9815f1c47225415c9": {
          "model_module": "@jupyter-widgets/controls",
          "model_name": "DescriptionStyleModel",
          "state": {
            "_view_name": "StyleView",
            "_model_name": "DescriptionStyleModel",
            "description_width": "",
            "_view_module": "@jupyter-widgets/base",
            "_model_module_version": "1.5.0",
            "_view_count": null,
            "_view_module_version": "1.2.0",
            "_model_module": "@jupyter-widgets/controls"
          }
        },
        "3448561a54b64c54993ebfc0a45e4a1c": {
          "model_module": "@jupyter-widgets/base",
          "model_name": "LayoutModel",
          "state": {
            "_view_name": "LayoutView",
            "grid_template_rows": null,
            "right": null,
            "justify_content": null,
            "_view_module": "@jupyter-widgets/base",
            "overflow": null,
            "_model_module_version": "1.2.0",
            "_view_count": null,
            "flex_flow": null,
            "width": null,
            "min_width": null,
            "border": null,
            "align_items": null,
            "bottom": null,
            "_model_module": "@jupyter-widgets/base",
            "top": null,
            "grid_column": null,
            "overflow_y": null,
            "overflow_x": null,
            "grid_auto_flow": null,
            "grid_area": null,
            "grid_template_columns": null,
            "flex": null,
            "_model_name": "LayoutModel",
            "justify_items": null,
            "grid_row": null,
            "max_height": null,
            "align_content": null,
            "visibility": null,
            "align_self": null,
            "height": null,
            "min_height": null,
            "padding": null,
            "grid_auto_rows": null,
            "grid_gap": null,
            "max_width": null,
            "order": null,
            "_view_module_version": "1.2.0",
            "grid_template_areas": null,
            "object_position": null,
            "object_fit": null,
            "grid_auto_columns": null,
            "margin": null,
            "display": null,
            "left": null
          }
        },
        "ec17a04176f44b0dabd210c70b502043": {
          "model_module": "@jupyter-widgets/controls",
          "model_name": "ButtonStyleModel",
          "state": {
            "_view_name": "StyleView",
            "_model_name": "ButtonStyleModel",
            "_view_module": "@jupyter-widgets/base",
            "_model_module_version": "1.5.0",
            "_view_count": null,
            "button_color": null,
            "font_weight": "",
            "_view_module_version": "1.2.0",
            "_model_module": "@jupyter-widgets/controls"
          }
        },
        "21a51e42641e43b8954aa495644ac2d9": {
          "model_module": "@jupyter-widgets/base",
          "model_name": "LayoutModel",
          "state": {
            "_view_name": "LayoutView",
            "grid_template_rows": null,
            "right": null,
            "justify_content": null,
            "_view_module": "@jupyter-widgets/base",
            "overflow": null,
            "_model_module_version": "1.2.0",
            "_view_count": null,
            "flex_flow": null,
            "width": null,
            "min_width": null,
            "border": null,
            "align_items": null,
            "bottom": null,
            "_model_module": "@jupyter-widgets/base",
            "top": null,
            "grid_column": null,
            "overflow_y": null,
            "overflow_x": null,
            "grid_auto_flow": null,
            "grid_area": null,
            "grid_template_columns": null,
            "flex": null,
            "_model_name": "LayoutModel",
            "justify_items": null,
            "grid_row": null,
            "max_height": null,
            "align_content": null,
            "visibility": null,
            "align_self": null,
            "height": null,
            "min_height": null,
            "padding": null,
            "grid_auto_rows": null,
            "grid_gap": null,
            "max_width": null,
            "order": null,
            "_view_module_version": "1.2.0",
            "grid_template_areas": null,
            "object_position": null,
            "object_fit": null,
            "grid_auto_columns": null,
            "margin": null,
            "display": null,
            "left": null
          }
        },
        "eb800d8235f44a8ba99ca9dca1959a9f": {
          "model_module": "@jupyter-widgets/controls",
          "model_name": "DescriptionStyleModel",
          "state": {
            "_view_name": "StyleView",
            "_model_name": "DescriptionStyleModel",
            "description_width": "",
            "_view_module": "@jupyter-widgets/base",
            "_model_module_version": "1.5.0",
            "_view_count": null,
            "_view_module_version": "1.2.0",
            "_model_module": "@jupyter-widgets/controls"
          }
        },
        "63c00c054f5346acafe79b9f1a144470": {
          "model_module": "@jupyter-widgets/base",
          "model_name": "LayoutModel",
          "state": {
            "_view_name": "LayoutView",
            "grid_template_rows": null,
            "right": null,
            "justify_content": null,
            "_view_module": "@jupyter-widgets/base",
            "overflow": null,
            "_model_module_version": "1.2.0",
            "_view_count": null,
            "flex_flow": null,
            "width": null,
            "min_width": null,
            "border": null,
            "align_items": null,
            "bottom": null,
            "_model_module": "@jupyter-widgets/base",
            "top": null,
            "grid_column": null,
            "overflow_y": null,
            "overflow_x": null,
            "grid_auto_flow": null,
            "grid_area": null,
            "grid_template_columns": null,
            "flex": null,
            "_model_name": "LayoutModel",
            "justify_items": null,
            "grid_row": null,
            "max_height": null,
            "align_content": null,
            "visibility": null,
            "align_self": null,
            "height": null,
            "min_height": null,
            "padding": null,
            "grid_auto_rows": null,
            "grid_gap": null,
            "max_width": null,
            "order": null,
            "_view_module_version": "1.2.0",
            "grid_template_areas": null,
            "object_position": null,
            "object_fit": null,
            "grid_auto_columns": null,
            "margin": null,
            "display": null,
            "left": null
          }
        },
        "5dfb60ad2b0f458a9ad5b9d4465cfff3": {
          "model_module": "@jupyter-widgets/base",
          "model_name": "LayoutModel",
          "state": {
            "_view_name": "LayoutView",
            "grid_template_rows": null,
            "right": null,
            "justify_content": null,
            "_view_module": "@jupyter-widgets/base",
            "overflow": null,
            "_model_module_version": "1.2.0",
            "_view_count": null,
            "flex_flow": null,
            "width": null,
            "min_width": null,
            "border": null,
            "align_items": null,
            "bottom": null,
            "_model_module": "@jupyter-widgets/base",
            "top": null,
            "grid_column": null,
            "overflow_y": null,
            "overflow_x": null,
            "grid_auto_flow": null,
            "grid_area": null,
            "grid_template_columns": null,
            "flex": null,
            "_model_name": "LayoutModel",
            "justify_items": null,
            "grid_row": null,
            "max_height": null,
            "align_content": null,
            "visibility": null,
            "align_self": null,
            "height": null,
            "min_height": null,
            "padding": null,
            "grid_auto_rows": null,
            "grid_gap": null,
            "max_width": null,
            "order": null,
            "_view_module_version": "1.2.0",
            "grid_template_areas": null,
            "object_position": null,
            "object_fit": null,
            "grid_auto_columns": null,
            "margin": null,
            "display": null,
            "left": null
          }
        }
      }
    }
  },
  "cells": [
    {
      "cell_type": "code",
      "metadata": {
        "colab": {
          "base_uri": "https://localhost:8080/"
        },
        "id": "ziWY0zcGgKfI",
        "outputId": "331000fa-f39e-4763-c54d-375f7e9eaea4"
      },
      "source": [
        "!pip install -Uqq fastbook\r\n",
        "import fastbook"
      ],
      "execution_count": 1,
      "outputs": [
        {
          "output_type": "stream",
          "text": [
            "\u001b[K     |████████████████████████████████| 727kB 4.8MB/s \n",
            "\u001b[K     |████████████████████████████████| 51kB 6.1MB/s \n",
            "\u001b[K     |████████████████████████████████| 1.1MB 8.5MB/s \n",
            "\u001b[K     |████████████████████████████████| 194kB 16.4MB/s \n",
            "\u001b[K     |████████████████████████████████| 61kB 6.3MB/s \n",
            "\u001b[?25h"
          ],
          "name": "stdout"
        }
      ]
    },
    {
      "cell_type": "code",
      "metadata": {
        "id": "2ZU9RZIPgVfH"
      },
      "source": [
        "from fastbook import *\r\n",
        "from fastai.vision.widgets import *"
      ],
      "execution_count": 3,
      "outputs": []
    },
    {
      "cell_type": "code",
      "metadata": {
        "id": "UWk0RNf4gbAa"
      },
      "source": [
        "path = Path()\r\n",
        "learn_inf = load_learner(path/'export.pkl', cpu=True)\r\n",
        "btn_upload = widgets.FileUpload()\r\n",
        "out_pl = widgets.Output()\r\n",
        "lbl_pred = widgets.Label()"
      ],
      "execution_count": 5,
      "outputs": []
    },
    {
      "cell_type": "code",
      "metadata": {
        "id": "xnr4EoA8ihB5"
      },
      "source": [
        "\r\n",
        "def on_data_change(change):\r\n",
        "    lbl_pred.value = ''\r\n",
        "    img = PILImage.create(btn_upload.data[-1])\r\n",
        "    out_pl.clear_output()\r\n",
        "    with out_pl: display(img.to_thumb(128,128))\r\n",
        "    pred,pred_idx,probs = learn_inf.predict(img)\r\n",
        "    lbl_pred.value = f'Prediction: {pred}; Probability: {probs[pred_idx]:.04f}'"
      ],
      "execution_count": 6,
      "outputs": []
    },
    {
      "cell_type": "code",
      "metadata": {
        "id": "mMJzqGj8ijHO"
      },
      "source": [
        "btn_upload.observe(on_data_change, names=['data'])"
      ],
      "execution_count": 7,
      "outputs": []
    },
    {
      "cell_type": "code",
      "metadata": {
        "colab": {
          "base_uri": "https://localhost:8080/",
          "height": 241,
          "referenced_widgets": [
            "b7b90053fcc643199b91e2a64388e222",
            "e5664e6896534d4fa2ec8914e8ccaf05",
            "a52611ffae464a48ba026a7cd3275d4d",
            "c7258b2256834ba6953d7c95b66788f5",
            "82cb13eb0c2849448f312c43134db7d4",
            "2fcaef5e7caa415b8f3163ce06bbe6f4",
            "ff11cfb8582446e9815f1c47225415c9",
            "3448561a54b64c54993ebfc0a45e4a1c",
            "ec17a04176f44b0dabd210c70b502043",
            "21a51e42641e43b8954aa495644ac2d9",
            "eb800d8235f44a8ba99ca9dca1959a9f",
            "63c00c054f5346acafe79b9f1a144470",
            "5dfb60ad2b0f458a9ad5b9d4465cfff3"
          ]
        },
        "id": "C3IQD83JiptI",
        "outputId": "ea8c5b86-3a60-470b-b4d5-c79b172bfc1d"
      },
      "source": [
        "display(VBox([widgets.Label('Select your bear!'), btn_upload, out_pl, lbl_pred]))"
      ],
      "execution_count": 8,
      "outputs": [
        {
          "output_type": "display_data",
          "data": {
            "application/vnd.jupyter.widget-view+json": {
              "model_id": "b7b90053fcc643199b91e2a64388e222",
              "version_minor": 0,
              "version_major": 2
            },
            "text/plain": [
              "VBox(children=(Label(value='Select your bear!'), FileUpload(value={}, description='Upload'), Output(), Label(v…"
            ]
          },
          "metadata": {
            "tags": []
          }
        },
        {
          "output_type": "display_data",
          "data": {
            "text/html": [
              ""
            ],
            "text/plain": [
              "<IPython.core.display.HTML object>"
            ]
          },
          "metadata": {
            "tags": []
          }
        },
        {
          "output_type": "display_data",
          "data": {
            "text/html": [
              ""
            ],
            "text/plain": [
              "<IPython.core.display.HTML object>"
            ]
          },
          "metadata": {
            "tags": []
          }
        },
        {
          "output_type": "display_data",
          "data": {
            "text/html": [
              ""
            ],
            "text/plain": [
              "<IPython.core.display.HTML object>"
            ]
          },
          "metadata": {
            "tags": []
          }
        }
      ]
    }
  ]
}